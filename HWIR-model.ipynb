{
 "cells": [
  {
   "cell_type": "code",
   "execution_count": 2,
   "metadata": {},
   "outputs": [],
   "source": [
    "from tensorflow.keras.datasets import mnist\n",
    "from tensorflow.keras import layers,models,losses,initializers,metrics,regularizers,optimizers\n",
    "from tensorflow.keras.optimizers import Adam\n",
    "import numpy as np\n",
    "import pandas as pd"
   ]
  },
  {
   "cell_type": "code",
   "execution_count": 3,
   "metadata": {},
   "outputs": [
    {
     "name": "stdout",
     "output_type": "stream",
     "text": [
      "(60000, 28, 28) (60000,) (28,)\n"
     ]
    }
   ],
   "source": [
    "(x_train,y_train),(x_test,y_test)=mnist.load_data()\n",
    "print(x_train.shape,y_train.shape,x_test[0][0].shape)\n",
    "y=x_test.shape\n",
    "x_train=x_train.reshape(60000,28,28,1)\n",
    "X_test=x_test.reshape(y[0],28,28,1)"
   ]
  },
  {
   "cell_type": "code",
   "execution_count": 4,
   "metadata": {},
   "outputs": [
    {
     "name": "stdout",
     "output_type": "stream",
     "text": [
      "Model: \"sequential\"\n",
      "_________________________________________________________________\n",
      "Layer (type)                 Output Shape              Param #   \n",
      "=================================================================\n",
      "conv2d (Conv2D)              (None, 28, 28, 32)        320       \n",
      "_________________________________________________________________\n",
      "flatten (Flatten)            (None, 25088)             0         \n",
      "_________________________________________________________________\n",
      "dense (Dense)                (None, 10)                250890    \n",
      "=================================================================\n",
      "Total params: 251,210\n",
      "Trainable params: 251,210\n",
      "Non-trainable params: 0\n",
      "_________________________________________________________________\n"
     ]
    }
   ],
   "source": [
    "hwir=models.Sequential()\n",
    "\n",
    "hwir.add(layers.Conv2D(32,3,padding='same',activation='relu',input_shape=(28,28,1)))\n",
    "hwir.add(layers.Flatten())\n",
    "hwir.add(layers.Dense(10,activation='softmax'))\n",
    "\n",
    "hwir.summary()"
   ]
  },
  {
   "cell_type": "code",
   "execution_count": 43,
   "metadata": {},
   "outputs": [],
   "source": [
    "hwir.compile(loss=losses.sparse_categorical_crossentropy,optimizer='Adam',metrics=['accuracy'])"
   ]
  },
  {
   "cell_type": "code",
   "execution_count": 44,
   "metadata": {},
   "outputs": [
    {
     "name": "stdout",
     "output_type": "stream",
     "text": [
      "Train on 60000 samples\n",
      "Epoch 1/10\n",
      "60000/60000 [==============================] - 20s 326us/sample - loss: 0.6552 - accuracy: 0.9420\n",
      "Epoch 2/10\n",
      "60000/60000 [==============================] - 16s 271us/sample - loss: 0.0756 - accuracy: 0.9772\n",
      "Epoch 3/10\n",
      "60000/60000 [==============================] - 11s 190us/sample - loss: 0.0664 - accuracy: 0.9793\n",
      "Epoch 4/10\n",
      "60000/60000 [==============================] - 12s 207us/sample - loss: 0.0510 - accuracy: 0.9849\n",
      "Epoch 5/10\n",
      "60000/60000 [==============================] - 14s 237us/sample - loss: 0.0439 - accuracy: 0.9865\n",
      "Epoch 6/10\n",
      "60000/60000 [==============================] - 14s 235us/sample - loss: 0.0339 - accuracy: 0.9906\n",
      "Epoch 7/10\n",
      "60000/60000 [==============================] - 14s 239us/sample - loss: 0.0313 - accuracy: 0.9910\n",
      "Epoch 8/10\n",
      "60000/60000 [==============================] - 14s 238us/sample - loss: 0.0237 - accuracy: 0.9934\n",
      "Epoch 9/10\n",
      "60000/60000 [==============================] - 14s 240us/sample - loss: 0.0238 - accuracy: 0.9938\n",
      "Epoch 10/10\n",
      "60000/60000 [==============================] - 14s 237us/sample - loss: 0.0267 - accuracy: 0.9940\n"
     ]
    },
    {
     "data": {
      "text/plain": [
       "<tensorflow.python.keras.callbacks.History at 0x2b6d566d148>"
      ]
     },
     "execution_count": 44,
     "metadata": {},
     "output_type": "execute_result"
    }
   ],
   "source": [
    "hwir.fit(x_train,y_train,epochs=10)"
   ]
  },
  {
   "cell_type": "code",
   "execution_count": 45,
   "metadata": {},
   "outputs": [
    {
     "name": "stdout",
     "output_type": "stream",
     "text": [
      "10000/10000 [==============================] - 1s 74us/sample - loss: 0.3005 - accuracy: 0.9705\n"
     ]
    },
    {
     "data": {
      "text/plain": [
       "[0.3005469662775009, 0.9705]"
      ]
     },
     "execution_count": 45,
     "metadata": {},
     "output_type": "execute_result"
    }
   ],
   "source": [
    "hwir.evaluate(X_test,y_test)"
   ]
  },
  {
   "cell_type": "code",
   "execution_count": 48,
   "metadata": {},
   "outputs": [
    {
     "data": {
      "text/plain": [
       "array([7, 2, 1, ..., 4, 5, 6], dtype=int64)"
      ]
     },
     "execution_count": 48,
     "metadata": {},
     "output_type": "execute_result"
    }
   ],
   "source": [
    "y_hat=hwir.predict_classes(X_test)\n",
    "y_hat"
   ]
  },
  {
   "cell_type": "code",
   "execution_count": 47,
   "metadata": {},
   "outputs": [
    {
     "data": {
      "text/plain": [
       "0.9705"
      ]
     },
     "execution_count": 47,
     "metadata": {},
     "output_type": "execute_result"
    }
   ],
   "source": [
    "from sklearn.metrics import accuracy_score\n",
    "\n",
    "accuracy_score(y_test,y_hat)"
   ]
  },
  {
   "cell_type": "code",
   "execution_count": 49,
   "metadata": {},
   "outputs": [
    {
     "data": {
      "text/plain": [
       "9705"
      ]
     },
     "execution_count": 49,
     "metadata": {},
     "output_type": "execute_result"
    }
   ],
   "source": [
    "c=0\n",
    "for i in range(len(y_test)):\n",
    "    if y_test[i]==y_hat[i]:\n",
    "        c=c+1\n",
    "\n",
    "c"
   ]
  },
  {
   "cell_type": "code",
   "execution_count": 15,
   "metadata": {},
   "outputs": [
    {
     "name": "stdout",
     "output_type": "stream",
     "text": [
      "(237, 237)\n",
      "[[  7  30  30  30  30  30  30  30  30  30  30  30  30  30  30  30  30  30\n",
      "   30  30  30  30  30  30  30  30  30  10]\n",
      " [ 30   0   0   0   0   0   0   0   0   0   0   0   0   0   0   0   0   0\n",
      "    0   0   0   0   0   0   0   0   0  30]\n",
      " [ 30   0   0   0   0   0   0   0   0   0   0   0   0   0   0   0   0   0\n",
      "    0   0   0   0   0   0   0   0   0  30]\n",
      " [ 30   0   0   0   0   0   0   0   0   0   0   0   0   0   0   0   0   0\n",
      "    0   0   0   0   0   0   0   0   0  30]\n",
      " [ 30   0   0   0   0   0   0   0   0   0   0   0   0   0   0   0   0   0\n",
      "    0   0   0   0   0   0   0   0   0  30]\n",
      " [ 30   0   0   0   0   0   0   1   0   0   0   0   0   0   0   0   0   0\n",
      "    0   0   0   0   0   0   0   0   0  30]\n",
      " [ 30   0   0   0   0   0  51  90  53  34  34  34  34  34  31  16   3   1\n",
      "    0   0   0   0   0   0   0   0   0  30]\n",
      " [ 30   0   0   0   0   0  93 198 192 183 183 183 183 183 180 155 118  31\n",
      "    2   0   0   0   0   0   0   0   0  30]\n",
      " [ 30   0   0   0   0   0  31 107 160 197 211 211 211 211 211 216 221 127\n",
      "    8   0   0   0   0   0   0   0   0  30]\n",
      " [ 30   0   0   0   0   0   0  15  32  46  52  52  52  52  58 119 224 138\n",
      "    9   0   0   0   0   0   0   0   0  30]\n",
      " [ 30   0   0   0   0   0   0   0   0   0   0   0   0   1  31 192 215  84\n",
      "    5   0   0   0   0   0   0   0   0  30]\n",
      " [ 30   0   0   0   0   0   0   0   0   0   0   0   1  20 115 217 129  21\n",
      "    1   0   0   0   0   0   0   0   0  30]\n",
      " [ 30   0   0   0   0   0   0   0   0   0   0   1  19 117 213 171  42   2\n",
      "    0   0   0   0   0   0   0   0   0  30]\n",
      " [ 30   0   0   0   0   0   0   0   0   0   1  18 112 215 204  55   5   0\n",
      "    0   0   0   0   0   0   0   0   0  30]\n",
      " [ 30   0   0   0   0   0   0   0   0   0   4  88 212 216 100  27  11   6\n",
      "    0   0   0   0   0   0   0   0   0  30]\n",
      " [ 30   0   0   0   0   0   0   0   0   0   4 102 207 212 143 124  99  79\n",
      "   47  14   0   0   0   0   0   0   0  30]\n",
      " [ 30   0   0   0   0   0   0   0   0   0   2  41 101 148 181 199 210 226\n",
      "  206  81   2   0   0   0   0   0   0  30]\n",
      " [ 30   0   0   0   0   0   0   0   0   0   0   2   4   9  33  58  92 165\n",
      "  234 142   4   0   0   0   0   0   0  30]\n",
      " [ 30   0   0   0   0   0   0   0   0   0   0   0   0   0   1   2  20 127\n",
      "  222 117   4   0   0   0   0   0   0  30]\n",
      " [ 30   0   0   0   0   0   0   0   0   0   0   0   0   0   0   6  63 191\n",
      "  188  42   1   0   0   0   0   0   0  30]\n",
      " [ 30   0   0   0   0   0   0   0   0   0   0   0   0   0   1  29 153 230\n",
      "  136   7   0   0   0   0   0   0   0  30]\n",
      " [ 30   0   0   0   0   0   0   0   0   0   0   0   0   0  12 105 212 179\n",
      "   57   2   0   0   0   0   0   0   0  30]\n",
      " [ 30   0   0   0   0   0   0   0   0   0   0   0   1   9  91 201 185  67\n",
      "    4   0   0   0   0   0   0   0   0  30]\n",
      " [ 30   0   0   0   0   0   0   0   0   0   2  52  94  97 192 173  76   6\n",
      "    0   0   0   0   0   0   0   0   0  30]\n",
      " [ 30   0   0   0   0   0   0   0   0   0   2  60 173 152 125  53  10   0\n",
      "    0   0   0   0   0   0   0   0   0  30]\n",
      " [ 30   0   0   0   0   0   0   0   0   0   1  15  57  48  23   3   0   0\n",
      "    0   0   0   0   0   0   0   0   0  30]\n",
      " [ 30   0   0   0   0   0   0   0   0   0   0   0   0   0   0   0   0   0\n",
      "    0   0   0   0   0   0   0   0   0  30]\n",
      " [ 10  30  30  30  30  30  30  30  30  30  30  30  30  30  30  30  30  30\n",
      "   30  30  30  30  30  30  30  30  30  14]]\n"
     ]
    }
   ],
   "source": [
    "import cv2\n",
    "img= cv2.imread('test_images/3_1.png',0)\n",
    "print(np.array(img).shape)\n",
    "img1=cv2.resize(img,(28,28),interpolation = cv2.INTER_AREA)\n",
    "img1=cv2.bitwise_not(img1)\n",
    "test=np.asarray(img1)\n",
    "test=test.reshape(1,28,28,1)\n",
    "print(img1)\n",
    "s=cv2.imshow('image',img1)\n",
    "cv2.waitKey(0) # waits until a key is pressed\n",
    "cv2.destroyAllWindows()"
   ]
  },
  {
   "cell_type": "code",
   "execution_count": 14,
   "metadata": {},
   "outputs": [
    {
     "data": {
      "text/plain": [
       "array([1], dtype=int64)"
      ]
     },
     "execution_count": 14,
     "metadata": {},
     "output_type": "execute_result"
    }
   ],
   "source": [
    "hwir.predict_classes([test])"
   ]
  },
  {
   "cell_type": "code",
   "execution_count": 11,
   "metadata": {},
   "outputs": [
    {
     "data": {
      "text/plain": [
       "array([[  0,   0,   0,   0,   0,   0,   0,   0,   0,   0,   0,   0,   0,\n",
       "          0,   0,   0,   0,   0,   0,   0,   0,   0,   0,   0,   0,   0,\n",
       "          0,   0],\n",
       "       [  0,   0,   0,   0,   0,   0,   0,   0,   0,   0,   0,   0,   0,\n",
       "          0,   0,   0,   0,   0,   0,   0,   0,   0,   0,   0,   0,   0,\n",
       "          0,   0],\n",
       "       [  0,   0,   0,   0,   0,   0,   0,   0,   0,   0,   0,   0,   0,\n",
       "          0,   0,   0,   0,   0,   0,   0,   0,   0,   0,   0,   0,   0,\n",
       "          0,   0],\n",
       "       [  0,   0,   0,   0,   0,   0,   0,   0,   0,   0,   0,   0,   0,\n",
       "          0,   0,   0,   0,   0,   0,   0,   0,   0,   0,   0,   0,   0,\n",
       "          0,   0],\n",
       "       [  0,   0,   0,   0,   0,   0,   0,   0,   0,   0,   0,   0,   0,\n",
       "          0,   0,   0,   0,   0,   0,   0,   0,   0,   0,   0,   0,   0,\n",
       "          0,   0],\n",
       "       [  0,   0,   0,   0,   0,   0,   0,   0,   0,   0,   0,   0,   0,\n",
       "          0,   0,   0,   0,   0,   0,   0,   0,   0,   0,   0,   0,   0,\n",
       "          0,   0],\n",
       "       [  0,   0,   0,   0,   0,   0,   0,   0,   0,   0,   0,   0,   0,\n",
       "          0,   0,   0,   0,   0,   0,   0,   0,   0,   0,   0,   0,   0,\n",
       "          0,   0],\n",
       "       [  0,   0,   0,   0,   0,   0,  84, 185, 159, 151,  60,  36,   0,\n",
       "          0,   0,   0,   0,   0,   0,   0,   0,   0,   0,   0,   0,   0,\n",
       "          0,   0],\n",
       "       [  0,   0,   0,   0,   0,   0, 222, 254, 254, 254, 254, 241, 198,\n",
       "        198, 198, 198, 198, 198, 198, 198, 170,  52,   0,   0,   0,   0,\n",
       "          0,   0],\n",
       "       [  0,   0,   0,   0,   0,   0,  67, 114,  72, 114, 163, 227, 254,\n",
       "        225, 254, 254, 254, 250, 229, 254, 254, 140,   0,   0,   0,   0,\n",
       "          0,   0],\n",
       "       [  0,   0,   0,   0,   0,   0,   0,   0,   0,   0,   0,  17,  66,\n",
       "         14,  67,  67,  67,  59,  21, 236, 254, 106,   0,   0,   0,   0,\n",
       "          0,   0],\n",
       "       [  0,   0,   0,   0,   0,   0,   0,   0,   0,   0,   0,   0,   0,\n",
       "          0,   0,   0,   0,   0,  83, 253, 209,  18,   0,   0,   0,   0,\n",
       "          0,   0],\n",
       "       [  0,   0,   0,   0,   0,   0,   0,   0,   0,   0,   0,   0,   0,\n",
       "          0,   0,   0,   0,  22, 233, 255,  83,   0,   0,   0,   0,   0,\n",
       "          0,   0],\n",
       "       [  0,   0,   0,   0,   0,   0,   0,   0,   0,   0,   0,   0,   0,\n",
       "          0,   0,   0,   0, 129, 254, 238,  44,   0,   0,   0,   0,   0,\n",
       "          0,   0],\n",
       "       [  0,   0,   0,   0,   0,   0,   0,   0,   0,   0,   0,   0,   0,\n",
       "          0,   0,   0,  59, 249, 254,  62,   0,   0,   0,   0,   0,   0,\n",
       "          0,   0],\n",
       "       [  0,   0,   0,   0,   0,   0,   0,   0,   0,   0,   0,   0,   0,\n",
       "          0,   0,   0, 133, 254, 187,   5,   0,   0,   0,   0,   0,   0,\n",
       "          0,   0],\n",
       "       [  0,   0,   0,   0,   0,   0,   0,   0,   0,   0,   0,   0,   0,\n",
       "          0,   0,   9, 205, 248,  58,   0,   0,   0,   0,   0,   0,   0,\n",
       "          0,   0],\n",
       "       [  0,   0,   0,   0,   0,   0,   0,   0,   0,   0,   0,   0,   0,\n",
       "          0,   0, 126, 254, 182,   0,   0,   0,   0,   0,   0,   0,   0,\n",
       "          0,   0],\n",
       "       [  0,   0,   0,   0,   0,   0,   0,   0,   0,   0,   0,   0,   0,\n",
       "          0,  75, 251, 240,  57,   0,   0,   0,   0,   0,   0,   0,   0,\n",
       "          0,   0],\n",
       "       [  0,   0,   0,   0,   0,   0,   0,   0,   0,   0,   0,   0,   0,\n",
       "         19, 221, 254, 166,   0,   0,   0,   0,   0,   0,   0,   0,   0,\n",
       "          0,   0],\n",
       "       [  0,   0,   0,   0,   0,   0,   0,   0,   0,   0,   0,   0,   3,\n",
       "        203, 254, 219,  35,   0,   0,   0,   0,   0,   0,   0,   0,   0,\n",
       "          0,   0],\n",
       "       [  0,   0,   0,   0,   0,   0,   0,   0,   0,   0,   0,   0,  38,\n",
       "        254, 254,  77,   0,   0,   0,   0,   0,   0,   0,   0,   0,   0,\n",
       "          0,   0],\n",
       "       [  0,   0,   0,   0,   0,   0,   0,   0,   0,   0,   0,  31, 224,\n",
       "        254, 115,   1,   0,   0,   0,   0,   0,   0,   0,   0,   0,   0,\n",
       "          0,   0],\n",
       "       [  0,   0,   0,   0,   0,   0,   0,   0,   0,   0,   0, 133, 254,\n",
       "        254,  52,   0,   0,   0,   0,   0,   0,   0,   0,   0,   0,   0,\n",
       "          0,   0],\n",
       "       [  0,   0,   0,   0,   0,   0,   0,   0,   0,   0,  61, 242, 254,\n",
       "        254,  52,   0,   0,   0,   0,   0,   0,   0,   0,   0,   0,   0,\n",
       "          0,   0],\n",
       "       [  0,   0,   0,   0,   0,   0,   0,   0,   0,   0, 121, 254, 254,\n",
       "        219,  40,   0,   0,   0,   0,   0,   0,   0,   0,   0,   0,   0,\n",
       "          0,   0],\n",
       "       [  0,   0,   0,   0,   0,   0,   0,   0,   0,   0, 121, 254, 207,\n",
       "         18,   0,   0,   0,   0,   0,   0,   0,   0,   0,   0,   0,   0,\n",
       "          0,   0],\n",
       "       [  0,   0,   0,   0,   0,   0,   0,   0,   0,   0,   0,   0,   0,\n",
       "          0,   0,   0,   0,   0,   0,   0,   0,   0,   0,   0,   0,   0,\n",
       "          0,   0]], dtype=uint8)"
      ]
     },
     "execution_count": 11,
     "metadata": {},
     "output_type": "execute_result"
    }
   ],
   "source": [
    "x_test[0]"
   ]
  },
  {
   "cell_type": "code",
   "execution_count": null,
   "metadata": {},
   "outputs": [],
   "source": []
  }
 ],
 "metadata": {
  "kernelspec": {
   "display_name": "Python 3",
   "language": "python",
   "name": "python3"
  },
  "language_info": {
   "codemirror_mode": {
    "name": "ipython",
    "version": 3
   },
   "file_extension": ".py",
   "mimetype": "text/x-python",
   "name": "python",
   "nbconvert_exporter": "python",
   "pygments_lexer": "ipython3",
   "version": "3.7.6"
  }
 },
 "nbformat": 4,
 "nbformat_minor": 4
}
